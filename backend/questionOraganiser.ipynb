{
 "cells": [
  {
   "cell_type": "code",
   "execution_count": 1,
   "metadata": {},
   "outputs": [
    {
     "data": {
      "text/plain": [
       "<firebase_admin.App at 0x2334df87a90>"
      ]
     },
     "execution_count": 1,
     "metadata": {},
     "output_type": "execute_result"
    }
   ],
   "source": [
    "import firebase_admin\n",
    "from firebase_admin import credentials,db\n",
    "\n",
    "cred = credentials.Certificate(\"credentials.json\")\n",
    "firebase_admin.initialize_app(cred, {'databaseURL':'https://question-paper-generator-8e829-default-rtdb.asia-southeast1.firebasedatabase.app/'})"
   ]
  },
  {
   "cell_type": "code",
   "execution_count": 2,
   "metadata": {},
   "outputs": [],
   "source": [
    "from firebase_admin import db\n",
    "ref = db.reference(\"/\")"
   ]
  },
  {
   "cell_type": "code",
   "execution_count": 4,
   "metadata": {},
   "outputs": [
    {
     "data": {
      "text/plain": [
       "{'questions': {'-NfqCnsZ-2ux_bFK7w5Y': {'image': '',\n",
       "   'marks': 5,\n",
       "   'module': '',\n",
       "   'question': 'please work'},\n",
       "  '-NfqCrlSvolGkx6JAWT-': {'image': '',\n",
       "   'marks': 5,\n",
       "   'module': '',\n",
       "   'question': 'plase work edited'},\n",
       "  '-NfqDWBs9fv1KDJc3RsV': {'image': '',\n",
       "   'marks': 5,\n",
       "   'module': '',\n",
       "   'question': 'plase work edited worked?'},\n",
       "  '-NfqEGrZyP2C-oivMfxT': {'image': '',\n",
       "   'marks': 5,\n",
       "   'module': '',\n",
       "   'question': 'plase work edited wor'},\n",
       "  '-NfvtmIlGVrD6bbao00W': {'image': '',\n",
       "   'marks': 5,\n",
       "   'module': '',\n",
       "   'question': 'plase work why it is not changing'}}}"
      ]
     },
     "execution_count": 4,
     "metadata": {},
     "output_type": "execute_result"
    }
   ],
   "source": [
    "ref.get()"
   ]
  },
  {
   "cell_type": "code",
   "execution_count": 8,
   "metadata": {},
   "outputs": [
    {
     "data": {
      "text/plain": [
       "{'-NfqCnsZ-2ux_bFK7w5Y': {'image': '',\n",
       "  'marks': 5,\n",
       "  'module': '',\n",
       "  'question': 'please work'},\n",
       " '-NfqCrlSvolGkx6JAWT-': {'image': '',\n",
       "  'marks': 5,\n",
       "  'module': '',\n",
       "  'question': 'plase work edited'},\n",
       " '-NfqDWBs9fv1KDJc3RsV': {'image': '',\n",
       "  'marks': 5,\n",
       "  'module': '',\n",
       "  'question': 'plase work edited worked?'},\n",
       " '-NfqEGrZyP2C-oivMfxT': {'image': '',\n",
       "  'marks': 5,\n",
       "  'module': '',\n",
       "  'question': 'plase work edited wor'},\n",
       " '-NfvtmIlGVrD6bbao00W': {'image': '',\n",
       "  'marks': 5,\n",
       "  'module': '',\n",
       "  'question': 'plase work why it is not changing'}}"
      ]
     },
     "execution_count": 8,
     "metadata": {},
     "output_type": "execute_result"
    }
   ],
   "source": [
    "db.reference(\"/questions/\").get()"
   ]
  },
  {
   "cell_type": "code",
   "execution_count": null,
   "metadata": {},
   "outputs": [],
   "source": []
  },
  {
   "cell_type": "code",
   "execution_count": null,
   "metadata": {},
   "outputs": [],
   "source": []
  },
  {
   "cell_type": "code",
   "execution_count": null,
   "metadata": {},
   "outputs": [],
   "source": []
  }
 ],
 "metadata": {
  "kernelspec": {
   "display_name": "env",
   "language": "python",
   "name": "python3"
  },
  "language_info": {
   "codemirror_mode": {
    "name": "ipython",
    "version": 3
   },
   "file_extension": ".py",
   "mimetype": "text/x-python",
   "name": "python",
   "nbconvert_exporter": "python",
   "pygments_lexer": "ipython3",
   "version": "3.11.6"
  }
 },
 "nbformat": 4,
 "nbformat_minor": 2
}
